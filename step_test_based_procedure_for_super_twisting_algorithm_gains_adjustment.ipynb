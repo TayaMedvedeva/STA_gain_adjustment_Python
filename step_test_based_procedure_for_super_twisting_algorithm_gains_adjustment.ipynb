{
  "nbformat": 4,
  "nbformat_minor": 0,
  "metadata": {
    "colab": {
      "provenance": [],
      "mount_file_id": "1Pn0TWhr_ur5DGq-Qol0pjpItuV53y1RQ",
      "authorship_tag": "ABX9TyOpJa14eHTxVWX9juXHG+fq",
      "include_colab_link": true
    },
    "kernelspec": {
      "name": "python3",
      "display_name": "Python 3"
    },
    "language_info": {
      "name": "python"
    }
  },
  "cells": [
    {
      "cell_type": "markdown",
      "metadata": {
        "id": "view-in-github",
        "colab_type": "text"
      },
      "source": [
        "<a href=\"https://colab.research.google.com/github/TayaMedvedeva/STA_gain_adjustment_Python/blob/main/step_test_based_procedure_for_super_twisting_algorithm_gains_adjustment.ipynb\" target=\"_parent\"><img src=\"https://colab.research.google.com/assets/colab-badge.svg\" alt=\"Open In Colab\"/></a>"
      ]
    },
    {
      "cell_type": "code",
      "source": [
        "import numpy as np\n",
        "import pandas as pd"
      ],
      "metadata": {
        "id": "ubRcC-XYZfhj"
      },
      "execution_count": null,
      "outputs": []
    },
    {
      "cell_type": "markdown",
      "source": [
        "# First step - Identification\n",
        "\n",
        "The file with step-test can be uploaded in CSV format:\n",
        "\n",
        "*   the first colunm - time\n",
        "*   the second colunm - output\n",
        "*   dt - sampling time\n",
        "*   Новый пункт\n",
        "\n",
        "\n",
        "\n",
        "\n"
      ],
      "metadata": {
        "id": "a8ijgVIHVfNW"
      }
    },
    {
      "cell_type": "code",
      "source": [
        "# Add your data\n",
        "rec = pd.read_csv('drive/MyDrive/Colab Notebooks/sta_autom/Andres_experiment/U5.csv') # path to the file\n",
        "dt = 0.001 # sampling time\n",
        "input = 5 # input value\n",
        "Delta = 1 # Lipzich constant\n",
        "###---###"
      ],
      "metadata": {
        "id": "T4g-jNjEQVQH"
      },
      "execution_count": null,
      "outputs": []
    },
    {
      "cell_type": "code",
      "source": [
        "# Identification\n",
        "rec = np.array(rec)\n",
        "t = rec[:, 0]\n",
        "y = rec[:, 2]\n",
        "\n",
        "dy = np.gradient(y, dt)\n",
        "y_ss = np.mean(y[len(y) - 500 : len(y)])\n",
        "parameter_k = y_ss / input\n",
        "\n",
        "dy_max = dy[0]\n",
        "t_inf= 0\n",
        "i_inf = 0\n",
        "t_start = 0\n",
        "for i in range(len(dy)):\n",
        "    if dy_max < dy[i]:\n",
        "        dy_max = dy[i]\n",
        "        t_inf = t[i]\n",
        "        i_inf = i\n",
        "    if y[i] == 0:\n",
        "        t_start = t[i]\n",
        "\n",
        "tg = dy_max\n",
        "y_inf = y[i_inf]\n",
        "parameter_tau = -(y_inf - tg * t_inf) / tg\n",
        "parameter_v = (y_ss - (y_inf - tg * t_inf)) / tg - parameter_tau\n",
        "\n",
        "\n",
        "print('k = ', parameter_k)\n",
        "print('tau = ', parameter_tau - t_start)\n",
        "print('v = ', parameter_v)\n"
      ],
      "metadata": {
        "colab": {
          "base_uri": "https://localhost:8080/"
        },
        "id": "Zkj0zeaUVW-S",
        "outputId": "bd1e386e-b68e-4f09-b0f8-8571397ab86d"
      },
      "execution_count": null,
      "outputs": [
        {
          "output_type": "stream",
          "name": "stdout",
          "text": [
            "k =  1.7544476419073554\n",
            "tau =  0.029660448016120444\n",
            "v =  0.654263697797203\n"
          ]
        }
      ]
    },
    {
      "cell_type": "markdown",
      "source": [
        "# Second step - STA gain adjustment"
      ],
      "metadata": {
        "id": "SNTF8ihYVZhT"
      }
    },
    {
      "cell_type": "code",
      "source": [
        "# Add your identified parameters\n",
        "k =  1.752618504602958\n",
        "tau =  0.038253814491698845\n",
        "v =  0.8734923360143185\n",
        "###---###\n",
        "\n",
        "k2 = 1.1 * Delta\n",
        "pi = np.pi\n",
        "alpha = 1.748"
      ],
      "metadata": {
        "id": "4-W-q21RnEpk"
      },
      "execution_count": null,
      "outputs": []
    },
    {
      "cell_type": "code",
      "execution_count": null,
      "metadata": {
        "colab": {
          "base_uri": "https://localhost:8080/"
        },
        "id": "UC7qsjuMVC8l",
        "outputId": "60cce7fa-b0e0-4b08-8abb-9642094549f8"
      },
      "outputs": [
        {
          "output_type": "stream",
          "name": "stdout",
          "text": [
            "k1_Ac_num =  1.03794\n"
          ]
        }
      ],
      "source": [
        "def func_w_cardan(k11, k22, v, tau):\n",
        "    a1 = -alpha**2*k *tau**4*v\n",
        "    b1 = 4*alpha**2*k*tau**3\n",
        "    b2 = - 1.0*pi*tau**4 - 8.0*pi*tau**3*v - 16.0*pi*tau**2*v**2\n",
        "    c1 = 16*alpha**2*k*tau + 16*alpha**2*k*v\n",
        "    c2 = 8.0*pi*tau**2 + 32.0*pi*tau*v\n",
        "    d2 = - 16*pi\n",
        "\n",
        "    a = a1 * k11**2\n",
        "    b = b1 * k11**2 + b2 * k22\n",
        "    c = c1 * k11**2 + c2 * k22\n",
        "    d = d2 * k22\n",
        "\n",
        "    Q = (3*a*c - b**2)/(9*a**2)\n",
        "    R = (9*a*b*c - 27*a**2*d - 2*b**3) / (54*a**3)\n",
        "\n",
        "    S = (R + (Q**3 + R**2) ** (1/2)) ** (1/3)\n",
        "    T = (R - (Q**3 + R**2) ** (1/2)) ** (1/3)\n",
        "\n",
        "    xi_1_sol = S + T - b / (3*a)\n",
        "    xi_2_sol = -(S + T)/2 - b / (3*a) + 1j*np.sqrt(3)/2*(S - T)\n",
        "    xi_3_sol = -(S + T)/2 - b / (3*a) - 1j*np.sqrt(3)/2*(S - T)\n",
        "\n",
        "\n",
        "    w_1_sol = np.real((xi_1_sol) ** (1/2))\n",
        "    w_2_sol = np.real((xi_2_sol) ** (1/2))\n",
        "    w_3_sol = np.real((xi_3_sol) ** (1/2))\n",
        "\n",
        "    w_sol = np.sort(np.array([w_1_sol, w_2_sol, w_3_sol]))\n",
        "\n",
        "    return [w_sol[0], w_sol[1], w_sol[2]]\n",
        "\n",
        "\n",
        "def get_A(w_arr, k11, k22, v, tau):\n",
        "    A_arr = []\n",
        "    for i in range(3):\n",
        "        w = w_arr[i]\n",
        "        A = 4.0*alpha**2*k**2*k11**2*(0.25*tau**2*w**2 + 1)**2/(pi**2*(0.25*tau**2*w**2 + tau*v*w**2 - 1)**2)\n",
        "        A_arr.append(A)\n",
        "    return A_arr\n",
        "\n",
        "\n",
        "def find_k1(k, tau, v):\n",
        "    n = 500\n",
        "    k1_start = 0.01\n",
        "    k1_end = 5\n",
        "    step = (k1_end - k1_start) / n\n",
        "    k1_arr = [k1_start + step*i for i in range(n)]\n",
        "\n",
        "    A_min = np.inf\n",
        "    P_min = np.inf\n",
        "    w_sol, A_sol = [], []\n",
        "    for i in range(n):\n",
        "        k1 = k1_arr[i]\n",
        "        w0 = func_w_cardan(k1, k2, v, tau)\n",
        "        w1_0, w2_0, w3_0 = w0[0], w0[1], w0[2]\n",
        "\n",
        "        w = [w1_0, w2_0, w3_0]\n",
        "        A = get_A(w, k1, k2, v, tau)\n",
        "        w_sol.append(w)\n",
        "        A_sol.append(A)\n",
        "\n",
        "        if A[2] < A_min:\n",
        "            k1_Ac = k1\n",
        "            A_min = A[2]\n",
        "\n",
        "    w_sol = np.array(w_sol)\n",
        "    A_sol = np.array(A_sol)\n",
        "    return k1_Ac\n",
        "\n",
        "\n",
        "k1_Ac = find_k1(k, tau, v)\n",
        "print('k1_Ac_num = ', k1_Ac)"
      ]
    },
    {
      "cell_type": "code",
      "source": [],
      "metadata": {
        "id": "cQKubzzTnFAh"
      },
      "execution_count": null,
      "outputs": []
    }
  ]
}